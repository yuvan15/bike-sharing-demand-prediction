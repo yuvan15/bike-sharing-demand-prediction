{
 "cells": [
  {
   "cell_type": "markdown",
   "id": "b3b9842e",
   "metadata": {},
   "source": [
    "### Bike Sharing Demand\n",
    "### Problem Statement:\n",
    "A US bike-sharing provider BoomBikes has recently suffered considerable dips in their revenues. They have contracted a consulting company to understand the factors on which the demand for these shared bikes depends. Specifically, they want to understand the factors affecting the demand for these shared bikes in the American market. The company wants to know:\n",
    "\n",
    "Which variables are significant in predicting the demand for shared bikes.\n",
    "How well those variables describe the bike demands\n",
    "You are required to model the demand for shared bikes with the available independent variables. It will be used by the management to understand how exactly the demands vary with different features. They can accordingly manipulate the business strategy to meet the demand levels and meet the customer's expectations. Further, the model will be a good way for management to understand the demand dynamics of a new market."
   ]
  },
  {
   "cell_type": "code",
   "execution_count": null,
   "id": "4104424d",
   "metadata": {},
   "outputs": [],
   "source": [
    "import warnings\n",
    "warnings.filterwarnings('ignore')\n",
    "\n",
    "import pandas as pd\n",
    "import numpy as np\n",
    "pd.set_option('display.max_columns',200)\n",
    "pd.set_option('display.max_rows', 200)\n",
    "\n",
    "import matplotlib.pyplot as plt\n",
    "import seaborn as sns\n",
    "\n",
    "import statsmodels\n",
    "import statsmodels.api as sm\n",
    "from statsmodels.stats.outliers_influence import variance_inflation_factor\n",
    "\n",
    "import sklearn\n",
    "from sklearn.model_selection import train_test_split\n",
    "from sklearn.preprocessing import MinMaxScaler\n",
    "from sklearn.preprocessing import StandardScaler\n",
    "from sklearn.linear_model import LinearRegression\n",
    "from sklearn.feature_selection import RFE\n",
    "from sklearn.metrics import r2_score\n",
    "from sklearn.metrics import mean_squared_error"
   ]
  },
  {
   "cell_type": "markdown",
   "id": "a89f309f",
   "metadata": {},
   "source": [
    "### 1. Data Insights"
   ]
  },
  {
   "cell_type": "code",
   "execution_count": null,
   "id": "6469ba66",
   "metadata": {},
   "outputs": [],
   "source": [
    "df = pd.read_csv(\"day.csv\")"
   ]
  },
  {
   "cell_type": "code",
   "execution_count": null,
   "id": "70a79823",
   "metadata": {},
   "outputs": [],
   "source": [
    "df.head(20)"
   ]
  },
  {
   "cell_type": "code",
   "execution_count": null,
   "id": "fc4beedb",
   "metadata": {},
   "outputs": [],
   "source": [
    "df.shape"
   ]
  },
  {
   "cell_type": "code",
   "execution_count": null,
   "id": "040e079e",
   "metadata": {},
   "outputs": [],
   "source": [
    "df.info()"
   ]
  },
  {
   "cell_type": "markdown",
   "id": "ac98b207",
   "metadata": {},
   "source": [
    "From info it is observed that there is no null data in the data set"
   ]
  },
  {
   "cell_type": "code",
   "execution_count": null,
   "id": "eb886da2",
   "metadata": {},
   "outputs": [],
   "source": [
    "df.describe()"
   ]
  },
  {
   "cell_type": "markdown",
   "id": "d5206047",
   "metadata": {},
   "source": [
    "1. From data description it is observed that, mean = 365.500 & median = 365.500,\n",
    "\n",
    "2. There is not much more difference in mean and median \n",
    "\n",
    "3. From this observation we can conclude that there is only very few outliers in this data set"
   ]
  },
  {
   "cell_type": "markdown",
   "id": "4c0701ee",
   "metadata": {},
   "source": [
    "### 2. Visualizing Data"
   ]
  },
  {
   "cell_type": "markdown",
   "id": "32bef368",
   "metadata": {},
   "source": [
    "###### 1.Numerical Data"
   ]
  },
  {
   "cell_type": "markdown",
   "id": "2b899824",
   "metadata": {},
   "source": [
    "1. Viewing only numerical values\n",
    "2. Since \" casual+ registered = cnt \", we are taking only \"cnt\" column"
   ]
  },
  {
   "cell_type": "code",
   "execution_count": null,
   "id": "664c6fdd",
   "metadata": {},
   "outputs": [],
   "source": [
    "num_vars = ['cnt','temp','atemp','hum','windspeed']\n",
    "df[num_vars].head()"
   ]
  },
  {
   "cell_type": "code",
   "execution_count": null,
   "id": "845b0bbf",
   "metadata": {},
   "outputs": [],
   "source": [
    "sns.pairplot(df, vars=num_vars)"
   ]
  },
  {
   "cell_type": "markdown",
   "id": "3d8961b2",
   "metadata": {},
   "source": [
    "###### 2.Categorical Data"
   ]
  },
  {
   "cell_type": "code",
   "execution_count": null,
   "id": "206d02f8",
   "metadata": {},
   "outputs": [],
   "source": [
    "plt.figure(figsize=(20,20))\n",
    "\n",
    "plt.subplot(2,3,1)\n",
    "sns.boxplot(x = 'season', y = 'cnt', data = df)\n",
    "\n",
    "plt.subplot(2,3,2)\n",
    "sns.boxplot(x = 'weathersit', y = 'cnt', data = df)\n"
   ]
  },
  {
   "cell_type": "markdown",
   "id": "db3a8a47",
   "metadata": {},
   "source": [
    "##### Seasons\n",
    "1 - Spring\n",
    "2 - Summer\n",
    "3 - Fall\n",
    "4 - Winter\n",
    "\n",
    "##### Weathersit\n",
    "\n",
    "1 - Clear\n",
    "2 - Mist & Cloudy\n",
    "3 - Light Snow & Rain\n",
    "4 - Heavy Snow & Rain"
   ]
  },
  {
   "cell_type": "code",
   "execution_count": null,
   "id": "2c7ac914",
   "metadata": {},
   "outputs": [],
   "source": [
    "plt.figure(figsize=(20,20))\n",
    "\n",
    "plt.subplot(2,3,1)\n",
    "sns.boxplot(x = 'weekday', y = 'cnt', data = df)\n",
    "\n",
    "plt.subplot(2,3,2)\n",
    "sns.boxplot(x = 'workingday', y = 'cnt', data = df)\n",
    "\n",
    "plt.subplot(2,3,3)\n",
    "sns.boxplot(x = 'holiday', y = 'cnt', data = df)\n",
    "\n"
   ]
  },
  {
   "cell_type": "code",
   "execution_count": null,
   "id": "425f59d2",
   "metadata": {},
   "outputs": [],
   "source": [
    "plt.figure(figsize=(20,20))\n",
    "\n",
    "plt.subplot(2,3,1)\n",
    "sns.boxplot(x = 'mnth', y = 'cnt', data = df)\n",
    "\n",
    "plt.subplot(2,3,2)\n",
    "sns.boxplot(x = 'yr', y = 'cnt', data = df)"
   ]
  },
  {
   "cell_type": "markdown",
   "id": "8551b606",
   "metadata": {},
   "source": [
    "### Observations from the plot\n",
    "1. The Spring Season has very low count of bike sharing , I guess spring is suitable walking and aslo for roamtic walk people opt to walk\n",
    "2. From the observation from the data set it is known that people don't use bike sharing in heavysnow or rain\n",
    "3. Bike sharing is high in clear weather condition,ie..(Clear, Few clouds, Partly cloudy, Partly cloudy)\n",
    "4. The number of bike shares incresed in 2019\n",
    "5. The Bike sharing are increases in summer months\n",
    "6. The Bike sharing are less during holidays"
   ]
  },
  {
   "cell_type": "markdown",
   "id": "229b6098",
   "metadata": {},
   "source": [
    "### 3. Preparing Data"
   ]
  },
  {
   "cell_type": "markdown",
   "id": "dbddd3fc",
   "metadata": {},
   "source": [
    "###### 1. Dropping Data "
   ]
  },
  {
   "cell_type": "raw",
   "id": "5588d6bf",
   "metadata": {},
   "source": [
    "Dropping columns \n",
    "\n",
    "1. instant \n",
    "\n",
    "2. dteday \n",
    "\n",
    "3. casual\n",
    "\n",
    "4. registered"
   ]
  },
  {
   "cell_type": "code",
   "execution_count": null,
   "id": "f051a8d3",
   "metadata": {},
   "outputs": [],
   "source": [
    "df.drop(['instant','dteday','casual','registered'], axis=1,inplace=True)\n",
    "df"
   ]
  },
  {
   "cell_type": "code",
   "execution_count": null,
   "id": "2109c37c",
   "metadata": {},
   "outputs": [],
   "source": [
    "df.head(10)"
   ]
  },
  {
   "cell_type": "markdown",
   "id": "7d63d7a9",
   "metadata": {},
   "source": [
    "###### 2. Mapping data's"
   ]
  },
  {
   "cell_type": "markdown",
   "id": "a3f34017",
   "metadata": {},
   "source": [
    "a. Mapping Season"
   ]
  },
  {
   "cell_type": "code",
   "execution_count": null,
   "id": "7013e98c",
   "metadata": {},
   "outputs": [],
   "source": [
    "df['season'] = df['season'].map({1: 'Spring',2:'Summer',3:'Fall',4:'Winter'})"
   ]
  },
  {
   "cell_type": "code",
   "execution_count": null,
   "id": "31b71a33",
   "metadata": {},
   "outputs": [],
   "source": [
    "df['season'].describe()"
   ]
  },
  {
   "cell_type": "code",
   "execution_count": null,
   "id": "6fd3f104",
   "metadata": {},
   "outputs": [],
   "source": [
    "sns.countplot(df['season'])"
   ]
  },
  {
   "cell_type": "markdown",
   "id": "df581edd",
   "metadata": {},
   "source": [
    "b. Mapping Weather Condition\n"
   ]
  },
  {
   "cell_type": "code",
   "execution_count": null,
   "id": "2d5f858b",
   "metadata": {},
   "outputs": [],
   "source": [
    "df['weathersit'] = df['weathersit'].map({1:'Clear',2:'Mist & Cloudy',3:'Light Snow & Rain',4:'Heavy Snow & Rain'})"
   ]
  },
  {
   "cell_type": "code",
   "execution_count": null,
   "id": "298f02b3",
   "metadata": {},
   "outputs": [],
   "source": [
    "df['weathersit'].describe()"
   ]
  },
  {
   "cell_type": "code",
   "execution_count": null,
   "id": "ca2b985e",
   "metadata": {},
   "outputs": [],
   "source": [
    "sns.countplot(df['weathersit'])"
   ]
  },
  {
   "cell_type": "markdown",
   "id": "918c0917",
   "metadata": {},
   "source": [
    "c. Mapping weekdays"
   ]
  },
  {
   "cell_type": "code",
   "execution_count": null,
   "id": "a77c0ec4",
   "metadata": {},
   "outputs": [],
   "source": [
    "df['weekday'] = df['weekday'].map({0:\"Sunday\",1:\"Monday\",2:\"Tuesday\",3:\"Wednesday\",4:\"Thrusday\",5:\"Friday\",6:\"Saturday\"})"
   ]
  },
  {
   "cell_type": "code",
   "execution_count": null,
   "id": "c2d1334b",
   "metadata": {},
   "outputs": [],
   "source": [
    "plt.figure(figsize=(10,9))\n",
    "sns.countplot(df['weekday'])\n",
    "plt.show()"
   ]
  },
  {
   "cell_type": "markdown",
   "id": "31db530f",
   "metadata": {},
   "source": [
    "#####  Converting month to categorical value for future use"
   ]
  },
  {
   "cell_type": "code",
   "execution_count": null,
   "id": "0c9eb7ba",
   "metadata": {},
   "outputs": [],
   "source": [
    "import calendar\n",
    "df['mnth'] = df['mnth'].apply(lambda x: calendar.month_abbr[x])"
   ]
  },
  {
   "cell_type": "code",
   "execution_count": null,
   "id": "0c79ce82",
   "metadata": {},
   "outputs": [],
   "source": [
    "df.head(51)"
   ]
  },
  {
   "cell_type": "markdown",
   "id": "7789ad79",
   "metadata": {},
   "source": [
    "### Creating Dummy Variables "
   ]
  },
  {
   "cell_type": "code",
   "execution_count": null,
   "id": "e62b12a0",
   "metadata": {},
   "outputs": [],
   "source": [
    "dummy = df[['season','mnth','weekday','weathersit']]"
   ]
  },
  {
   "cell_type": "code",
   "execution_count": null,
   "id": "3b51db70",
   "metadata": {},
   "outputs": [],
   "source": [
    "dummy = pd.get_dummies(dummy,drop_first=True)"
   ]
  },
  {
   "cell_type": "code",
   "execution_count": null,
   "id": "e4455233",
   "metadata": {},
   "outputs": [],
   "source": [
    "dummy.columns"
   ]
  },
  {
   "cell_type": "code",
   "execution_count": null,
   "id": "0be5de21",
   "metadata": {},
   "outputs": [],
   "source": [
    "df = pd.concat([dummy,df],axis=1)"
   ]
  },
  {
   "cell_type": "code",
   "execution_count": null,
   "id": "47777f68",
   "metadata": {},
   "outputs": [],
   "source": [
    "df.head()"
   ]
  },
  {
   "cell_type": "code",
   "execution_count": null,
   "id": "86740a17",
   "metadata": {},
   "outputs": [],
   "source": [
    "df.columns.value_counts()"
   ]
  },
  {
   "cell_type": "code",
   "execution_count": null,
   "id": "5f547278",
   "metadata": {},
   "outputs": [],
   "source": [
    "df.shape"
   ]
  },
  {
   "cell_type": "code",
   "execution_count": null,
   "id": "0ae0a924",
   "metadata": {},
   "outputs": [],
   "source": [
    "#Dropping columns \n",
    "df.drop(['season', 'mnth', 'weekday','weathersit'], axis = 1, inplace = True)\n",
    "df.head()"
   ]
  },
  {
   "cell_type": "code",
   "execution_count": null,
   "id": "365a9864",
   "metadata": {},
   "outputs": [],
   "source": [
    "df.shape"
   ]
  },
  {
   "cell_type": "markdown",
   "id": "c5e5ffb6",
   "metadata": {},
   "source": [
    "### 4.Splitting and Re-scaling Data"
   ]
  },
  {
   "cell_type": "code",
   "execution_count": null,
   "id": "00892a05",
   "metadata": {},
   "outputs": [],
   "source": [
    "#splitting data\n",
    "train, test = train_test_split(df, train_size = 0.7, test_size = 0.3, random_state = 100)"
   ]
  },
  {
   "cell_type": "code",
   "execution_count": null,
   "id": "075d81df",
   "metadata": {},
   "outputs": [],
   "source": [
    "#Rescaling \n",
    "\n",
    "scaler = MinMaxScaler()\n",
    "num_vars = ['cnt','hum','windspeed','temp','atemp']\n",
    "\n",
    "train[num_vars] = scaler.fit_transform(train[num_vars])"
   ]
  },
  {
   "cell_type": "code",
   "execution_count": null,
   "id": "16fa2fa0",
   "metadata": {},
   "outputs": [],
   "source": [
    "train.head()"
   ]
  },
  {
   "cell_type": "code",
   "execution_count": null,
   "id": "64e48242",
   "metadata": {},
   "outputs": [],
   "source": [
    "train.describe()"
   ]
  },
  {
   "cell_type": "markdown",
   "id": "c36363a4",
   "metadata": {},
   "source": [
    "### 5. Dividing Training Data Set"
   ]
  },
  {
   "cell_type": "code",
   "execution_count": null,
   "id": "e533925f",
   "metadata": {},
   "outputs": [],
   "source": [
    "y_train = train.pop(\"cnt\")\n",
    "X_train = train"
   ]
  },
  {
   "cell_type": "code",
   "execution_count": null,
   "id": "6c3c39f2",
   "metadata": {},
   "outputs": [],
   "source": [
    "print(X_train.shape)\n",
    "print(y_train.shape)"
   ]
  },
  {
   "cell_type": "code",
   "execution_count": null,
   "id": "215bbad1",
   "metadata": {},
   "outputs": [],
   "source": [
    "#Creating LinearRegression Object\n",
    "lm = LinearRegression()\n",
    "#fitting the model\n",
    "lm.fit(X_train,y_train)"
   ]
  },
  {
   "cell_type": "markdown",
   "id": "5393ea30",
   "metadata": {},
   "source": [
    "### Selecting Top 12 features using RFE"
   ]
  },
  {
   "cell_type": "code",
   "execution_count": null,
   "id": "c6a91578",
   "metadata": {},
   "outputs": [],
   "source": [
    "rfe = RFE(lm, 12) \n",
    "rfe = rfe.fit(X_train, y_train)"
   ]
  },
  {
   "cell_type": "markdown",
   "id": "8e2f643d",
   "metadata": {},
   "source": [
    "#### Viewing columns with RFE Score"
   ]
  },
  {
   "cell_type": "code",
   "execution_count": null,
   "id": "f35385af",
   "metadata": {},
   "outputs": [],
   "source": [
    "list(zip(X_train.columns,rfe.support_,rfe.ranking_))"
   ]
  },
  {
   "cell_type": "code",
   "execution_count": null,
   "id": "b8bd877a",
   "metadata": {},
   "outputs": [],
   "source": [
    "rfe_col = X_train.columns[rfe.support_]\n",
    "rfe_col"
   ]
  },
  {
   "cell_type": "code",
   "execution_count": null,
   "id": "918c36db",
   "metadata": {},
   "outputs": [],
   "source": [
    "X_train.columns[~rfe.support_]"
   ]
  },
  {
   "cell_type": "markdown",
   "id": "d9b398d9",
   "metadata": {},
   "source": [
    "## 6.  Creating Models "
   ]
  },
  {
   "cell_type": "markdown",
   "id": "feca6788",
   "metadata": {},
   "source": [
    "### Model 1"
   ]
  },
  {
   "cell_type": "code",
   "execution_count": null,
   "id": "4ff00b0c",
   "metadata": {},
   "outputs": [],
   "source": [
    "X_train_rfe = X_train[rfe_col]"
   ]
  },
  {
   "cell_type": "code",
   "execution_count": null,
   "id": "b80b5d58",
   "metadata": {},
   "outputs": [],
   "source": [
    "#adding constant\n",
    "X_train_lm = sm.add_constant(X_train_rfe)"
   ]
  },
  {
   "cell_type": "code",
   "execution_count": null,
   "id": "bcae16fa",
   "metadata": {},
   "outputs": [],
   "source": [
    "#fitting model\n",
    "lm = sm.OLS(y_train,X_train_rfe).fit()"
   ]
  },
  {
   "cell_type": "code",
   "execution_count": null,
   "id": "122dcdca",
   "metadata": {},
   "outputs": [],
   "source": [
    "#lm.params"
   ]
  },
  {
   "cell_type": "code",
   "execution_count": null,
   "id": "7ece9f77",
   "metadata": {},
   "outputs": [],
   "source": [
    "print(lm.summary())\n"
   ]
  },
  {
   "cell_type": "code",
   "execution_count": null,
   "id": "4cf81ceb",
   "metadata": {},
   "outputs": [],
   "source": [
    "vif = pd.DataFrame()\n",
    "X = X_train_rfe\n",
    "vif['Features'] = X.columns\n",
    "vif['VIF'] = [variance_inflation_factor(X.values, i) for i in range(X.shape[1])]\n",
    "vif['VIF'] = round(vif['VIF'], 2)\n",
    "vif = vif.sort_values(by = \"VIF\", ascending = False)\n",
    "vif"
   ]
  },
  {
   "cell_type": "markdown",
   "id": "6d71c61d",
   "metadata": {},
   "source": [
    "#### Observation :\n",
    "It is observed that hum has high VIF score and high p-value so creating model with dropping that column"
   ]
  },
  {
   "cell_type": "markdown",
   "id": "07e5b566",
   "metadata": {},
   "source": [
    "### Model 2 "
   ]
  },
  {
   "cell_type": "code",
   "execution_count": null,
   "id": "a0f1acf2",
   "metadata": {},
   "outputs": [],
   "source": [
    "X_train_2 = X_train_lm.drop([\"hum\"], axis = 1)\n",
    "X_train_lm = sm.add_constant(X_train_2)\n",
    "lm = sm.OLS(y_train,X_train_lm).fit()"
   ]
  },
  {
   "cell_type": "code",
   "execution_count": null,
   "id": "bf1e3d38",
   "metadata": {},
   "outputs": [],
   "source": [
    "print(lm.summary())"
   ]
  },
  {
   "cell_type": "code",
   "execution_count": null,
   "id": "65fc57a6",
   "metadata": {},
   "outputs": [],
   "source": [
    "vif = pd.DataFrame()\n",
    "X = X_train_2\n",
    "vif['Features'] = X.columns\n",
    "vif['VIF'] = [variance_inflation_factor(X.values, i) for i in range(X.shape[1])]\n",
    "vif['VIF'] = round(vif['VIF'], 2)\n",
    "vif = vif.sort_values(by = \"VIF\", ascending = False)\n",
    "vif"
   ]
  },
  {
   "cell_type": "markdown",
   "id": "3564e0c6",
   "metadata": {},
   "source": [
    "#### Observation :\n",
    "Still const column has low p-value it have very high VIF so we are dropping it and creating new model"
   ]
  },
  {
   "cell_type": "markdown",
   "id": "a78fc410",
   "metadata": {},
   "source": [
    "###  Model 3"
   ]
  },
  {
   "cell_type": "code",
   "execution_count": null,
   "id": "9b46a5e2",
   "metadata": {},
   "outputs": [],
   "source": [
    "X_train_3 = X_train_lm.drop([\"const\"], axis = 1)\n",
    "X_train_lm = sm.add_constant(X_train_3)\n",
    "lm = sm.OLS(y_train,X_train_lm).fit()"
   ]
  },
  {
   "cell_type": "code",
   "execution_count": null,
   "id": "ea34ee1b",
   "metadata": {},
   "outputs": [],
   "source": [
    "print(lm.summary())"
   ]
  },
  {
   "cell_type": "code",
   "execution_count": null,
   "id": "40c3b629",
   "metadata": {},
   "outputs": [],
   "source": [
    "vif = pd.DataFrame()\n",
    "X = X_train_3\n",
    "vif['Features'] = X.columns\n",
    "vif['VIF'] = [variance_inflation_factor(X.values, i) for i in range(X.shape[1])]\n",
    "vif['VIF'] = round(vif['VIF'], 2)\n",
    "vif = vif.sort_values(by = \"VIF\", ascending = False)\n",
    "vif"
   ]
  },
  {
   "cell_type": "markdown",
   "id": "8ba182be",
   "metadata": {},
   "source": [
    "# 7. Residual Analysis"
   ]
  },
  {
   "cell_type": "code",
   "execution_count": null,
   "id": "acaf4112",
   "metadata": {},
   "outputs": [],
   "source": [
    "y_train_res = lm.predict(X_train_lm)"
   ]
  },
  {
   "cell_type": "code",
   "execution_count": null,
   "id": "530bc3d0",
   "metadata": {},
   "outputs": [],
   "source": [
    "fig = plt.figure()\n",
    "sns.distplot((y_train - y_train_res), bins = 20)\n",
    "fig.suptitle('Error Terms', fontsize = 20)\n",
    "plt.xlabel('Errors', fontsize = 18)                 "
   ]
  },
  {
   "cell_type": "markdown",
   "id": "4b22b075",
   "metadata": {},
   "source": [
    "# 8. Prediction using Final Model"
   ]
  },
  {
   "cell_type": "code",
   "execution_count": null,
   "id": "1cb1c30d",
   "metadata": {},
   "outputs": [],
   "source": [
    "num_vars = ['cnt','hum','windspeed','temp','atemp']\n",
    "test[num_vars] = scaler.fit_transform(test[num_vars])"
   ]
  },
  {
   "cell_type": "code",
   "execution_count": null,
   "id": "103c27bc",
   "metadata": {},
   "outputs": [],
   "source": [
    "test.shape"
   ]
  },
  {
   "cell_type": "code",
   "execution_count": null,
   "id": "63de267a",
   "metadata": {},
   "outputs": [],
   "source": [
    "test.describe()"
   ]
  },
  {
   "cell_type": "markdown",
   "id": "d6198691",
   "metadata": {},
   "source": [
    "###  Dividing Data set"
   ]
  },
  {
   "cell_type": "code",
   "execution_count": null,
   "id": "7fabe73e",
   "metadata": {},
   "outputs": [],
   "source": [
    "y_test = test.pop('cnt')\n",
    "X_test = test"
   ]
  },
  {
   "cell_type": "code",
   "execution_count": null,
   "id": "27d440dd",
   "metadata": {},
   "outputs": [],
   "source": [
    "print(y_test.shape)\n",
    "print(X_test.shape)"
   ]
  },
  {
   "cell_type": "code",
   "execution_count": null,
   "id": "86c5993f",
   "metadata": {},
   "outputs": [],
   "source": [
    "# predicting using values used by the final model\n",
    "test_col = X_train_lm.columns\n",
    "X_test=X_test[test_col[1:]]\n",
    "\n",
    "# Adding constant variable to test dataframe\n",
    "X_test = sm.add_constant(X_test)"
   ]
  },
  {
   "cell_type": "code",
   "execution_count": null,
   "id": "a6992ad6",
   "metadata": {},
   "outputs": [],
   "source": [
    "X_test.info()"
   ]
  },
  {
   "cell_type": "markdown",
   "id": "f3ef0756",
   "metadata": {},
   "source": [
    "### 9. Prediction"
   ]
  },
  {
   "cell_type": "code",
   "execution_count": null,
   "id": "10803024",
   "metadata": {},
   "outputs": [],
   "source": [
    "y_pred = lm.predict(X_test)"
   ]
  },
  {
   "cell_type": "code",
   "execution_count": null,
   "id": "84ba56a1",
   "metadata": {},
   "outputs": [],
   "source": [
    "print(\"R2-Score : \",r2_score(y_test,y_pred).round(2))"
   ]
  },
  {
   "cell_type": "code",
   "execution_count": null,
   "id": "69b0a716",
   "metadata": {},
   "outputs": [],
   "source": [
    "from sklearn.metrics import mean_squared_error\n",
    "mse = mean_squared_error(y_test, y_pred)\n",
    "print(\"MeanSquaredError = \",mse)"
   ]
  },
  {
   "cell_type": "markdown",
   "id": "d282c465",
   "metadata": {},
   "source": [
    "### 10. Evaluvating Model"
   ]
  },
  {
   "cell_type": "code",
   "execution_count": null,
   "id": "a9d44179",
   "metadata": {},
   "outputs": [],
   "source": [
    "fig = plt.figure()\n",
    "plt.scatter(y_test, y_pred)\n",
    "fig.suptitle('y_test VS y_pred', fontsize = 20)              \n",
    "plt.xlabel('y_test', fontsize = 16)                         \n",
    "plt.ylabel('y_pred', fontsize = 16)  "
   ]
  },
  {
   "cell_type": "code",
   "execution_count": null,
   "id": "aef1f38f",
   "metadata": {},
   "outputs": [],
   "source": [
    "param = pd.DataFrame(lm.params)\n",
    "param.insert(0,'Variables',param.index)\n",
    "param.rename(columns = {0:'Coefficient value'},inplace = True)\n",
    "param['index'] = list(range(0,12))\n",
    "param.set_index('index',inplace = True)\n",
    "param.sort_values(by = 'Coefficient value',ascending = False,inplace = True)\n",
    "param"
   ]
  },
  {
   "cell_type": "markdown",
   "id": "34c95c3d",
   "metadata": {},
   "source": [
    "\n",
    "cnt = 0.199648 + 0.491508 X temp + 0.233482 X yr + 0.083084 X seasonWinter + 0.076686 X mnth_Sep  + 0.045280 X season_Summer -0.052418 X  mnth_Jul - 0.066942 X season_Spring - 0.081558 X weathersit_Mist & Cloudy\t- 0.098013 X holiday - 0.147977 X windspeed - 0.285155 X weathersit_Light Snow & Rain\t\n",
    "\n",
    "#### The possible variables : temp,yr,season-winter,mnth_Sep,season_Summer indicate that an increase in these values will lead to an increase in the value of cnt\n",
    "\n",
    "#### The negative variables : mnth_Jul,season_Spring,weathersit_Mist & Cloudy,holiday,windspeed,weathersit_Light Snow & Rain\tindicate that an increase in these values will lead to an deccrease in the value of cnt"
   ]
  },
  {
   "cell_type": "markdown",
   "id": "c9e514c2",
   "metadata": {},
   "source": [
    "## Final Observation"
   ]
  },
  {
   "cell_type": "markdown",
   "id": "14a1ecff",
   "metadata": {},
   "source": [
    "1. Temperature has the highest impact\n",
    "2. In the month of september (Spring) the bike rental is high\n",
    "3. The renatal is very low in holidays\n",
    "\n",
    "#### Temperature and Season has the higer impact on deciding the bike rental"
   ]
  },
  {
   "cell_type": "code",
   "execution_count": null,
   "id": "6708e08b",
   "metadata": {},
   "outputs": [],
   "source": []
  },
  {
   "cell_type": "code",
   "execution_count": null,
   "id": "69279150",
   "metadata": {},
   "outputs": [],
   "source": []
  }
 ],
 "metadata": {
  "kernelspec": {
   "display_name": "Python 3 (ipykernel)",
   "language": "python",
   "name": "python3"
  },
  "language_info": {
   "codemirror_mode": {
    "name": "ipython",
    "version": 3
   },
   "file_extension": ".py",
   "mimetype": "text/x-python",
   "name": "python",
   "nbconvert_exporter": "python",
   "pygments_lexer": "ipython3",
   "version": "3.9.7"
  }
 },
 "nbformat": 4,
 "nbformat_minor": 5
}
